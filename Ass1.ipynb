{
  "nbformat": 4,
  "nbformat_minor": 0,
  "metadata": {
    "colab": {
      "provenance": []
    },
    "kernelspec": {
      "name": "python3",
      "display_name": "Python 3"
    },
    "language_info": {
      "name": "python"
    }
  },
  "cells": [
    {
      "cell_type": "markdown",
      "source": [
        "## Assignment 1\n",
        "\n",
        "Shahar Bardugo\n",
        "\n",
        "Leah Wachtfogel"
      ],
      "metadata": {
        "id": "lFUDc5NbwNjJ"
      }
    },
    {
      "cell_type": "code",
      "source": [
        "import numpy as np\n",
        "from numpy import random\n",
        "import math\n",
        "from tensorflow import keras\n",
        "from tensorflow.keras import layers\n",
        "import time\n",
        "import matplotlib.pyplot as plt\n",
        "\n",
        "EPSILON = 1e-14"
      ],
      "metadata": {
        "id": "8Ch7Jlwnw2Eh"
      },
      "execution_count": 16,
      "outputs": []
    },
    {
      "cell_type": "markdown",
      "source": [
        "## 1. Forward Propagation Process"
      ],
      "metadata": {
        "id": "PLNaT1gtvTCN"
      }
    },
    {
      "cell_type": "markdown",
      "source": [
        "לשנות את כל הפרמטרים להיות כמו בעבודה. \n",
        "לבדוק איך אנשים הגדירו את דאבליו האם כמו מערך ? \n",
        "להוסיף הערות\n",
        "לשים לב לאותיות קטנות וגדולות במילון\n",
        "לא לשכוח את use_batchnorm\n"
      ],
      "metadata": {
        "id": "43bJL9RgJ6JO"
      }
    },
    {
      "cell_type": "code",
      "execution_count": 17,
      "metadata": {
        "id": "1nJKPywZpjjq"
      },
      "outputs": [],
      "source": [
        "def\tinitialize_parameters(layer_dims):\n",
        "  \"\"\"Function to initialize W and b parameters of each layer.\n",
        "\n",
        "    Parameters\n",
        "    ----------\n",
        "    layer_dims : list of int\n",
        "        An array of the dimensions of each layer in the network (layer 0 is the\n",
        "        size of the flattened input, layer L is the output softmax)\n",
        "\n",
        "    Returns\n",
        "    -------\n",
        "    list of dict\n",
        "        A list of dictionaries containing the initialized W and b parameters of\n",
        "        each layer (W1…WL, b1…bL).\n",
        "\n",
        "    \"\"\"\n",
        "\n",
        "  dict_list = []\n",
        "  # Loop over each layer and initialize W and b\n",
        "  for i in range(0, len(layer_dims) - 1):\n",
        "      W = random.randn(layer_dims[i + 1], layer_dims[i]) \n",
        "      W = W * np.sqrt(1 / layer_dims[i])\n",
        "      b = np.zeros((layer_dims[i + 1], 1))    \n",
        "      dict_list.append({\"W\" : W , \"b\": b})\n",
        "  return dict_list\n",
        "\n",
        "\n",
        "def\tlinear_forward(A, W, b):\n",
        "  \"\"\"Computes the linear forward propagation of the neural network.\n",
        "\n",
        "    Parameters\n",
        "    ----------\n",
        "    A : numpy.ndarray\n",
        "        Input data of shape (size of previous layer, number of examples)\n",
        "    W : numpy.ndarray\n",
        "        Weight matrix of shape (size of current layer, size of previous layer)\n",
        "    b : numpy.ndarray\n",
        "        Bias vector of shape (size of current layer, 1)\n",
        "\n",
        "    Returns\n",
        "    -------\n",
        "    numpy.ndarray\n",
        "        Z - the input of the activation function\n",
        "    dict\n",
        "        linear_cashe - A dictionary containing \"A\", \"W\", and \"b\" for use in backpropagation.\n",
        "\n",
        "    \"\"\"\n",
        "  Z = np.dot(W, A)+ b\n",
        "   \n",
        "  return Z, {\"A\":A, \"W\": W, \"b\": b} # linear cache\n",
        "\n",
        "\n",
        "def\tsoftmax(Z):\n",
        "  \"\"\"Computes the softmax activation function.\n",
        "\n",
        "    Parameters\n",
        "    ----------\n",
        "    Z : numpy.ndarray\n",
        "        the linear component of the activation function\n",
        "\n",
        "    Returns\n",
        "    -------\n",
        "    numpy.ndarray\n",
        "        A - the softmax activations of the layer\n",
        "    dict\n",
        "        activation_cache - A dictionary containing \"Z\" for use in backpropagation.\n",
        "\n",
        "    \"\"\"\n",
        "  exp_max = np.exp(Z - np.max(Z, axis=0, keepdims=True))\n",
        "  A = exp_max / np.sum(exp_max, axis=0, keepdims=True)\n",
        "\n",
        "  return A, {\"Z\": Z} # activation cache  \n",
        "\n",
        "\n",
        "def relu(Z):\n",
        "  \"\"\"Computes the ReLU activation function.\n",
        "\n",
        "    Parameters\n",
        "    ----------\n",
        "    Z : numpy.ndarray\n",
        "        the linear component of the activation function\n",
        "\n",
        "    Returns\n",
        "    -------\n",
        "    numpy.ndarray\n",
        "        A - the ReLU activations of the layer\n",
        "    dict\n",
        "        activation_cache - A dictionary containing \"Z\" for use in backpropagation.\n",
        "\n",
        "    \"\"\"\n",
        "\n",
        "  A = np.maximum(0, Z)\n",
        "  return A, {\"Z\": Z} # activation cache\n",
        "\n",
        "\n",
        "def linear_activation_forward(A_prev, W, B, activation):\n",
        "  \"\"\"Computes the forward propagation for a single layer with the given\n",
        "    activation function.\n",
        "\n",
        "    Parameters\n",
        "    ----------\n",
        "    A_prev : numpy.ndarray\n",
        "        Input data\n",
        "    W : numpy.ndarray\n",
        "        Weight matrix\n",
        "    b : numpy.ndarray\n",
        "        Bias vector\n",
        "    activation : str\n",
        "        Activation function to be used in this layer, can be \"softmax\" or \"relu\"\n",
        "\n",
        "    Returns\n",
        "    -------\n",
        "    numpy.ndarray\n",
        "        A - output of the activation function\n",
        "    dict\n",
        "        caches - A dictionary containing the \"linear_cache\" and \"activation_cache\" for\n",
        "        use in backpropagation.\n",
        "\n",
        "    \"\"\"\n",
        "\n",
        "  Z, linear_cache = linear_forward(A_prev , W , B) \n",
        "  A, activation_cache = softmax(Z) if activation == \"softmax\" else \\\n",
        "                        relu(Z) if activation == \"relu\" else (None, None)\n",
        "  return A, {\"linear_cache\" : linear_cache, \"activation_cache\" : activation_cache}   # linear + activation cache\n",
        "\n",
        "\n",
        "def L_model_forward(X, parameters, use_batchnorm):\n",
        "  \"\"\"\n",
        "    Forward propagation for the [LINEAR->RELU]*(L-1)->LINEAR->SOFTMAX computation\n",
        "\n",
        "    Inputs:\n",
        "        X : np.ndarray \n",
        "          The input data \n",
        "        parameters : list[dict])\n",
        "          List of parameters W and b of each layer.\n",
        "        use_batchnorm : bool)\n",
        "           A boolean indicating whether or not to apply batch \n",
        "           normalization after each activation.\n",
        "\n",
        "    Outputs:\n",
        "        AL : np.ndarray\n",
        "           Probability vector of shape (output_size, number_of_examples).\n",
        "        caches : list\n",
        "           A list of caches for each layer. Each cache is a dictionary \n",
        "           containing \"linear_cache\" and \"activation_cache\" for that layer.\n",
        "    \"\"\"\n",
        "\n",
        "  caches = [None] * len(parameters)\n",
        "  A = X #np.array(X.copy())\n",
        "  for i in range(0, len(parameters) - 1):\n",
        "    A, cache = linear_activation_forward(A, parameters[i][\"W\"], parameters[i][\"b\"], \"relu\")\n",
        "    caches[i] = cache\n",
        "    if use_batchnorm:\n",
        "      A = apply_batchnorm(A)\n",
        "  AL, cache = linear_activation_forward(A, parameters[-1][\"W\"], parameters[-1][\"b\"], \"softmax\")\n",
        "  caches[-1] = cache\n",
        "  return AL, caches \n",
        "\n",
        "\n",
        "def compute_cost(AL, Y):\n",
        "\n",
        "  m = AL.shape[1]\n",
        "  cost = (-1/m) * np.sum(np.multiply(Y, np.log(AL + EPSILON)))\n",
        "\n",
        "  return cost # cross-entropy\n",
        "\n",
        "\n",
        "def apply_batchnorm(A):\n",
        "\n",
        "  mean_ = A.mean(axis = 0 )\n",
        "  var_ = A.var(axis = 0)\n",
        "  NA = (A - mean_) / np.sqrt(var_ + EPSILON ) \n",
        "\n",
        "  return NA #normalization activation\n"
      ]
    },
    {
      "cell_type": "markdown",
      "source": [
        "## 2. Backward Propagation Process"
      ],
      "metadata": {
        "id": "UvoEdoe-vjE8"
      }
    },
    {
      "cell_type": "code",
      "source": [
        "def\tLinear_backward(dZ, cache):\n",
        "\n",
        "  m = cache[\"A\"].shape[1]\n",
        "  dW = (1/m) * np.dot(dZ, cache[\"A\"].T )\n",
        "  db = (1/m) * np.sum(dZ , axis = 1)\n",
        "  dA_prev = np.dot(cache[\"W\"].T, dZ) \n",
        "\n",
        "  return dA_prev, dW, db\n",
        "\n",
        "\n",
        "def\tlinear_activation_backward(dA, cache, activation):\n",
        "\n",
        "  if activation == \"relu\":\n",
        "    dZ = relu_backward(dA, cache[\"activation_cache\"])\n",
        "  elif activation == \"softmax\":\n",
        "    dZ = softmax_backward(dA, cache[\"activation_cache\"])  \n",
        "  dA_prev, dW, db = Linear_backward(dZ, cache[\"linear_cache\"])\n",
        "\n",
        "  return dA_prev, dW, db\n",
        "\n",
        "\n",
        "def\trelu_backward(dA, activation_cache):\n",
        "\n",
        "  Z = activation_cache[\"Z\"]\n",
        "  dZ = dA.copy()\n",
        "  dZ[Z <= 0] = 0\n",
        "  #dZ = activation_cache[\"Z\"]\n",
        "  #dZ[activation_cache[\"Z\"] <= 0] = 0 \n",
        "  #dZ[activation_cache[\"Z\"] > 0] = 1\n",
        "  #dZ = dZ * dA  \n",
        "\n",
        "  return dZ\n",
        "\n",
        "\n",
        "def\tsoftmax_backward(dA, activation_cache):\n",
        "  \n",
        "  dZ = dA \n",
        "\n",
        "  return dZ\n",
        "\n",
        "\n",
        "def\tL_model_backward(AL, Y, caches):\n",
        "\n",
        "  l = len(caches)\n",
        "\n",
        "  dA = AL - Y\n",
        "  dA_prev, dW, db = linear_activation_backward(dA, caches[-1], \"softmax\")\n",
        "  Grads = {f\"dA{l}\" : dA , f\"dW{l}\" : dW , f\"db{l}\" : db}\n",
        "  for i in range(l - 1 , 0, -1):    \n",
        "     dA_prev, dW, db = linear_activation_backward(dA_prev, caches[i-1], \"relu\")\n",
        "     Grads.update({f\"dA{i}\" : dA , f\"dW{i}\" : dW , f\"db{i}\" : db})\n",
        "\n",
        "  return Grads \n",
        "\n",
        "\n",
        "def\tUpdate_parameters(parameters, grads, learning_rate):\n",
        "\n",
        "  l = len(parameters)\n",
        "  for i in range(0, l):\n",
        "    parameters[i][\"W\"] -= learning_rate * grads[f\"dW{i+1}\"]\n",
        "    db = np.array([[x] for x in grads[f\"db{i+1}\"]])\n",
        "    parameters[i][\"b\"] -= learning_rate * db\n",
        "    \n",
        "  return parameters\n"
      ],
      "metadata": {
        "id": "L1toMtvbsuxJ"
      },
      "execution_count": 18,
      "outputs": []
    },
    {
      "cell_type": "markdown",
      "source": [
        "## Auxiliary functions‏"
      ],
      "metadata": {
        "id": "c8e-xkaQ0P0d"
      }
    },
    {
      "cell_type": "code",
      "source": [
        "def split_data(X , Y, split_size): \n",
        "\n",
        "  num_samples = len(Y)\n",
        "  indices = np.arange(num_samples)\n",
        "  np.random.shuffle(indices)\n",
        "  split_1 = indices[0 : int(num_samples*split_size)]\n",
        "  split_2 = indices[int(num_samples*split_size) : num_samples]\n",
        "\n",
        "  return X[split_1], X[split_2], Y[split_1], Y[split_2]\n",
        "\n",
        "def to_categorial(Y):\n",
        "  num_cat = len(np.unique(Y))\n",
        "  categorial_matrix = np.zeros((len(Y), num_cat))\n",
        "  for i in range(0, len(Y)):\n",
        "    index = Y[i]\n",
        "    categorial_matrix[i][index] = 1\n",
        "\n",
        "  return categorial_matrix"
      ],
      "metadata": {
        "id": "MQ1lhwST0RXi"
      },
      "execution_count": 19,
      "outputs": []
    },
    {
      "cell_type": "markdown",
      "source": [
        "## 3. Train Network and Produce Predictions"
      ],
      "metadata": {
        "id": "PdqU1XJAvpxe"
      }
    },
    {
      "cell_type": "code",
      "source": [
        "def\tpredict(X, Y, parameters):\n",
        "  Y_pred, caches = L_model_forward(X.T, parameters, False)\n",
        "  #print(Y_pred)\n",
        "  list_results = np.where(Y == 1)[1] == np.argmax(Y_pred.T, axis = 1)\n",
        "  #print(list_results)\n",
        "  accuracy = (list_results.sum() / len(list_results)) * 100\n",
        "\n",
        "  return accuracy\n",
        "\n",
        "def\tL_layer_model(X, Y, layers_dims, learning_rate, num_iterations, batch_size, batch_norm=False):\n",
        "\n",
        "  perf = {\"costs_val\":[], \"accuracy_val\":[], \"costs_train\":[], \"accuracy_train\":[]}\n",
        "  val_accuracy = []\n",
        "  training_iteration = 0\n",
        "  X_train , X_val , Y_train , Y_val  = split_data(X, Y, 0.8)\n",
        "  parameters = initialize_parameters(layers_dims)\n",
        "  for iter in range(0,num_iterations):\n",
        "    i = 0\n",
        "    while i < len(X_train) - 1:\n",
        "      training_iteration += 1\n",
        "      i_end = min(i+batch_size, len(X))\n",
        "      X_batch = X_train[i : i_end]\n",
        "      Y_batch = Y_train[i : i_end]       \n",
        "      AL, caches = L_model_forward(X_batch.T, parameters, batch_norm)\n",
        "      Y_train_p = AL.copy()\n",
        "      Grads = L_model_backward(AL, Y_batch.T, caches)\n",
        "      parameters = Update_parameters(parameters, Grads, learning_rate)\n",
        "      if training_iteration % 100 == 0:\n",
        "\n",
        "        Y_pred, caches = L_model_forward(X_val.T, parameters, batch_norm)\n",
        "        cost = compute_cost(Y_pred, Y_val.T)\n",
        "        accuracy = predict(X_val, Y_val, parameters)\n",
        "        perf[\"costs_val\"].append(cost)\n",
        "        perf[\"accuracy_val\"].append(accuracy)\n",
        "\n",
        "        Y_pred, caches = L_model_forward(X_batch.T, parameters, batch_norm)\n",
        "        cost_train = compute_cost(Y_pred, Y_batch.T)\n",
        "        accuracy_train = predict(X_batch, Y_batch, parameters)\n",
        "        perf[\"costs_train\"].append(cost_train)\n",
        "        perf[\"accuracy_train\"].append(accuracy_train)\n",
        "#        print(f\"train cost: {cost_train}, train accuracy: {accuracy_train}, validation cost: {cost}, validation accuracy: {accuracy}\")\n",
        "        \n",
        "        if len(perf[\"costs_val\"]) > 1 and cost + EPSILON > perf[\"costs_val\"][-2] and iter > 30: \n",
        "          print(\" - - - - - - - - - - - - - - - - - -\")\n",
        "          print(f\" - - - iterations = {iter} - - - \")\n",
        "          return parameters, perf\n",
        "\n",
        "      i += batch_size\n",
        "  print(\" - - - - - - - - - - - - - - - - - -\")\n",
        "  print(f\" - - - iterations = {iter} - - - \")\n",
        "  return parameters, perf\n",
        "\n",
        "\n"
      ],
      "metadata": {
        "id": "IzdPzudju5LU"
      },
      "execution_count": 34,
      "outputs": []
    },
    {
      "cell_type": "markdown",
      "source": [
        "## 4. Classifying MNIST Dataset and Summary"
      ],
      "metadata": {
        "id": "_5g_yEbDvzDE"
      }
    },
    {
      "cell_type": "code",
      "source": [
        "\n",
        "def draw_performance(batch_size, batch_norm, performance, analysis):\n",
        "  #training_iteration\n",
        "  plt.figure(figsize=(5, 3))\n",
        "  plt.plot(range(0, len(performance[f\"{analysis}_val\"]) * 100 , 100), performance[f\"{analysis}_val\"], label = \"validation\")\n",
        "  plt.plot(range(0, len(performance[f\"{analysis}_train\"]) * 100 , 100), performance[f\"{analysis}_train\"], label = \"train\")\n",
        "  plt.legend()\n",
        "  plt.xlabel(\"#iterations\")\n",
        "  plt.ylabel(analysis)\n",
        "  plt.title(f\"Model Train and Validation {analysis}\\nbatch size={batch_size}, batch norm={batch_norm}\")\n",
        "  plt.show()\n",
        "\n",
        "\n",
        "def run_MNIST_NN(batch_norm, batch_size):\n",
        "  (x_train, y_train), (x_test, y_test) = keras.datasets.mnist.load_data()\n",
        "\n",
        "  x_train = x_train/255\n",
        "  x_test = x_test/255\n",
        "\n",
        "  input_num = 28 * 28\n",
        "  X_train = np.reshape(x_train, (len(x_train), input_num))\n",
        "  X_test = np.reshape(x_test, (len(x_test), input_num))\n",
        "\n",
        "  layers_dims = [784, 20, 7, 5, 10]\n",
        "  learning_rate = 0.009\n",
        "  num_iterations = 100000\n",
        "\n",
        "  start = time.time()\n",
        "  parameters , performance = L_layer_model(X_train, to_categorial(y_train), layers_dims, learning_rate, num_iterations, batch_size, batch_norm)\n",
        "  end = time.time()\n",
        "  print(f\" - - - batch_size = {batch_size} - - - \")\n",
        "  print(f\" - - - batch_norm = {batch_norm} - - - \")\n",
        "  print(f\"time: {end - start} Sec\")  \n",
        "  acc = predict(X_test, to_categorial(y_test), parameters)\n",
        "  acc_t = performance[\"accuracy_train\"][-1]\n",
        "  acc_v = performance[\"accuracy_val\"][-1]\n",
        "  print(f\"Train Accuracy: {acc_t}\")\n",
        "  print(f\"Validation Accuracy: {acc_v}\")\n",
        "  print(f\"Test Accuracy: {acc}\")\n",
        "  num_iter = len(performance[\"costs_val\"]*100)\n",
        "  print(f\"num of iterations: {num_iter}\")\n",
        "  print(f\"time: {end - start} Sec\")\n",
        "  draw_performance(batch_size, batch_norm, performance, \"costs\")\n",
        "  draw_performance(batch_size, batch_norm, performance, \"accuracy\")\n"
      ],
      "metadata": {
        "id": "tjsw1-0mvQ56"
      },
      "execution_count": 32,
      "outputs": []
    },
    {
      "cell_type": "code",
      "source": [
        "#run_MNIST_NN(False, 512)\n",
        "#run_MNIST_NN(False, 128)\n",
        "#run_MNIST_NN(False, 32)\n",
        "\n",
        "run_MNIST_NN(True, 512)\n",
        "#run_MNIST_NN(True, 128)\n",
        "#run_MNIST_NN(True, 32)"
      ],
      "metadata": {
        "colab": {
          "base_uri": "https://localhost:8080/",
          "height": 865
        },
        "id": "6shCg04ny7pF",
        "outputId": "e0043ff9-252c-4e10-c894-63a6c0a98d8f"
      },
      "execution_count": 35,
      "outputs": [
        {
          "output_type": "stream",
          "name": "stdout",
          "text": [
            " - - - - - - - - - - - - - - - - - -\n",
            " - - - iterations = 607 - - - \n",
            " - - - batch_size = 512 - - - \n",
            " - - - batch_norm = True - - - \n",
            "time: 434.9846351146698 Sec\n",
            "Train Accuracy: 77.9296875\n",
            "Validation Accuracy: 79.25\n",
            "Test Accuracy: 78.91\n",
            "num of iterations: 57100\n",
            "time: 434.9846351146698 Sec\n"
          ]
        },
        {
          "output_type": "display_data",
          "data": {
            "text/plain": [
              "<Figure size 500x300 with 1 Axes>"
            ],
            "image/png": "[encoded data removed]"
          },
          "metadata": {}
        },
        {
          "output_type": "display_data",
          "data": {
            "text/plain": [
              "<Figure size 500x300 with 1 Axes>"
            ],
            "image/png": "[encoded data removed]"
          },
          "metadata": {}
        }
      ]
    }
  ]
}